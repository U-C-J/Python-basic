{
 "cells": [
  {
   "cell_type": "markdown",
   "metadata": {},
   "source": [
    "# learn how to use dict to save variable"
   ]
  },
  {
   "cell_type": "markdown",
   "metadata": {},
   "source": [
    "time: 4/23/18 \n",
    "environment: windows 10, python 3.5"
   ]
  },
  {
   "cell_type": "markdown",
   "metadata": {},
   "source": [
    "\n",
    "## Overview\n",
    "\n",
    "This notebook is for beginners in in python.This notebook contains:<br>\n",
    "\n",
    "How to make an auto-changing variable.\n"
   ]
  },
  {
   "cell_type": "markdown",
   "metadata": {},
   "source": [
    "## learning example\n",
    "\n",
    "Object: we would like to create a class saving a directed graph"
   ]
  },
  {
   "cell_type": "code",
   "execution_count": 3,
   "metadata": {
    "collapsed": true
   },
   "outputs": [],
   "source": [
    "#first, let us create a class edge having three attributes: start, end and weight\n",
    "class edge(object):\n",
    "    def __init__(self,start,end,weight):\n",
    "        self.start = start\n",
    "        self.end = end\n",
    "        self.weight = weight "
   ]
  },
  {
   "cell_type": "code",
   "execution_count": 4,
   "metadata": {
    "collapsed": true
   },
   "outputs": [],
   "source": [
    "#second, let us create a simple graph example\n",
    "content = ['w b 0.2','x z 0.3'] #means from w to b weight is 0.2 and from x to z weight is 0.3, two edges"
   ]
  },
  {
   "cell_type": "code",
   "execution_count": 5,
   "metadata": {
    "collapsed": true
   },
   "outputs": [],
   "source": [
    "# then how can we save two edges as two edge objects?\n",
    "myedge = {}#make a dict\n",
    "for i in range(len(content)):    \n",
    "    item = content[i].split()\n",
    "    myedge['edge'+str(i)] = edge(item[0],item[1],float(item[2]))"
   ]
  },
  {
   "cell_type": "code",
   "execution_count": 9,
   "metadata": {},
   "outputs": [
    {
     "data": {
      "text/plain": [
       "{'end': 'b', 'start': 'w', 'weight': 0.2}"
      ]
     },
     "execution_count": 9,
     "metadata": {},
     "output_type": "execute_result"
    }
   ],
   "source": [
    "#check object attributes\n",
    "myedge['edge0'].__dict__"
   ]
  },
  {
   "cell_type": "code",
   "execution_count": null,
   "metadata": {
    "collapsed": true
   },
   "outputs": [],
   "source": []
  }
 ],
 "metadata": {
  "kernelspec": {
   "display_name": "Python 3",
   "language": "python",
   "name": "python3"
  },
  "language_info": {
   "codemirror_mode": {
    "name": "ipython",
    "version": 3
   },
   "file_extension": ".py",
   "mimetype": "text/x-python",
   "name": "python",
   "nbconvert_exporter": "python",
   "pygments_lexer": "ipython3",
   "version": "3.6.3"
  }
 },
 "nbformat": 4,
 "nbformat_minor": 2
}
