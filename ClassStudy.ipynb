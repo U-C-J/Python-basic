{
 "cells": [
  {
   "cell_type": "markdown",
   "metadata": {},
   "source": [
    "# learn python object and class inheritance"
   ]
  },
  {
   "cell_type": "markdown",
   "metadata": {},
   "source": [
    "time: 4/13/18 <br>\n",
    "environment: windows 10, python 3.5"
   ]
  },
  {
   "cell_type": "markdown",
   "metadata": {},
   "source": [
    "## Overview\n",
    "This notebook is for beginners in object and class use in python.This notebook contains:<br>\n",
    "1. definition of a class\n",
    "2. inheritance\n",
    "3. multiple inheritance\n"
   ]
  },
  {
   "cell_type": "markdown",
   "metadata": {},
   "source": [
    "**1. definition of a class**<br>\n",
    "Just like def for function, class is for objects. Usually when we define a class, objects for this class share same attributes. E.g. Person is a class. Every person has name, sex. So can use \"__init__()\" method to define intial attributes.<br>\n",
    "When a class defines an \"__init__()\" method, class instantiation automatically invokes __init__() for the newly-created class instance.<br>\n",
    "**Attention: here \"__init__\" have two underlines "
   ]
  },
  {
   "cell_type": "code",
   "execution_count": 3,
   "metadata": {},
   "outputs": [],
   "source": [
    "\n",
    "\n",
    "class Person(object):\n",
    "    def __init__(self,name,sex):\n",
    "        self.name = name\n",
    "        self.sex = sex\n",
    "        \n",
    "    def print_title(self):\n",
    "        if self.sex == \"male\":\n",
    "            print(\"man\")\n",
    "        elif self.sex == \"female\":\n",
    "            print(\"woman\")\n",
    "\n"
   ]
  },
  {
   "cell_type": "markdown",
   "metadata": {},
   "source": [
    "**2. inheritance**<br>\n",
    "Now we have a class person initially has two attributes: name and sex. And one method: print_title.<br>\n",
    "Next we define a subclass inherited from Person. The subclass has all attributes and methods from Parent."
   ]
  },
  {
   "cell_type": "markdown",
   "metadata": {},
   "source": [
    "Subclass child can add attributes \"mother\" and \"father\". Also subclass can rewrite the method print_title."
   ]
  },
  {
   "cell_type": "code",
   "execution_count": 16,
   "metadata": {},
   "outputs": [
    {
     "name": "stdout",
     "output_type": "stream",
     "text": [
      "girl\n",
      "man\n"
     ]
    }
   ],
   "source": [
    "class Child(Person):    \n",
    "    def __init__(self,name,sex,mother,father):\n",
    "        Person.__init__(self,name,sex)\n",
    "        self.mother = mother\n",
    "        self.father = father\n",
    "    #open for extension (subclass can overwrite function), close for modification, directly inherit parents's function                     \n",
    "    def print_title(self):\n",
    "        if self.sex == \"male\":\n",
    "            print(\"boy\")\n",
    "        elif self.sex == \"female\":\n",
    "            print(\"girl\")\n",
    "            \n",
    "May = Child(\"May\",\"female\",\"Jak\",\"LL\")\n",
    "Peter = Person(\"Peter\",\"male\")\n",
    "\n",
    "#print(May.name,May.sex,Peter.name,Peter.sex)    \n",
    "May.print_title()\n",
    "Peter.print_title()\n"
   ]
  },
  {
   "cell_type": "markdown",
   "metadata": {},
   "source": [
    "Python has two statements to check the inheritance: isinstance and issubclass<br>\n",
    "isinstance: to check instance type<br>\n",
    "issubclass: to check class inheritance<br>"
   ]
  },
  {
   "cell_type": "code",
   "execution_count": 7,
   "metadata": {},
   "outputs": [
    {
     "name": "stdout",
     "output_type": "stream",
     "text": [
      "True\n",
      "True\n",
      "False\n",
      "True\n",
      "True\n"
     ]
    }
   ],
   "source": [
    "\n",
    "\n",
    "print(isinstance(May,Child))         # True\n",
    "print(isinstance(May,Person))        # True\n",
    "print(isinstance(Peter,Child))       # False\n",
    "print(isinstance(Peter,Person))      # True\n",
    "print(issubclass(Child,Person))      # True\n"
   ]
  },
  {
   "cell_type": "markdown",
   "metadata": {},
   "source": [
    "**3. multiple inheritance:** <br>\n",
    "Now we create a new class baby inherited from child and person. We see that in child and person, they both have a method print_title. So when new class executes this function, which one will work? The priority is the first up layer. Baby's parent is Child. Child's parent is Person. The priority is Child > Person."
   ]
  },
  {
   "cell_type": "code",
   "execution_count": 13,
   "metadata": {},
   "outputs": [],
   "source": [
    "class Baby(Child):\n",
    "     pass"
   ]
  },
  {
   "cell_type": "code",
   "execution_count": 14,
   "metadata": {},
   "outputs": [],
   "source": [
    "May = Baby(\"May\",\"female\",\"Ye\",\"He\")"
   ]
  },
  {
   "cell_type": "code",
   "execution_count": 15,
   "metadata": {},
   "outputs": [
    {
     "name": "stdout",
     "output_type": "stream",
     "text": [
      "girl\n"
     ]
    }
   ],
   "source": [
    "May.print_title()"
   ]
  },
  {
   "cell_type": "markdown",
   "metadata": {},
   "source": [
    "Code source and reference:<br>\n",
    "[1] https://www.cnblogs.com/feeland/p/4419121.html <br>\n",
    "[2] https://docs.python.org/3/tutorial/classes.html <br>\n",
    "[3] https://jeffknupp.com/blog/2014/06/18/improve-your-python-python-classes-and-object-oriented-programming/\n"
   ]
  },
  {
   "cell_type": "code",
   "execution_count": null,
   "metadata": {},
   "outputs": [],
   "source": []
  }
 ],
 "metadata": {
  "kernelspec": {
   "display_name": "Python 3",
   "language": "python",
   "name": "python3"
  },
  "language_info": {
   "codemirror_mode": {
    "name": "ipython",
    "version": 3
   },
   "file_extension": ".py",
   "mimetype": "text/x-python",
   "name": "python",
   "nbconvert_exporter": "python",
   "pygments_lexer": "ipython3",
   "version": "3.5.4"
  }
 },
 "nbformat": 4,
 "nbformat_minor": 2
}
